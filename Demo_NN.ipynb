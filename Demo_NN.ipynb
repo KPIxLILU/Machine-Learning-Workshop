{
 "cells": [
  {
   "cell_type": "code",
   "execution_count": 1,
   "metadata": {},
   "outputs": [],
   "source": [
    "import sys, os\n",
    "sys.path.append(\"/Users/yurei/Desktop/My_file/讀書筆記/Machine_Learning/Studying_Club/Neural_Network/deep-learning-from-scratch/\")\n",
    "from dataset.mnist import load_mnist"
   ]
  },
  {
   "cell_type": "code",
   "execution_count": 2,
   "metadata": {},
   "outputs": [],
   "source": [
    "import matplotlib.pyplot as plt\n",
    "import numpy as np\n",
    "import pandas as pd\n",
    "import time\n",
    "from PIL import Image\n",
    "import pickle\n",
    "from common.functions import sigmoid , softmax"
   ]
  },
  {
   "cell_type": "code",
   "execution_count": 25,
   "metadata": {},
   "outputs": [],
   "source": [
    "def img_show(img):\n",
    "    pil_img=Image.fromarray(np.uint8(img))\n",
    "    pil_img.show()"
   ]
  },
  {
   "cell_type": "markdown",
   "metadata": {},
   "source": [
    "## ch4-執行小批次學習"
   ]
  },
  {
   "cell_type": "code",
   "execution_count": 17,
   "metadata": {},
   "outputs": [],
   "source": [
    "import numpy as np\n",
    "from dataset.mnist import load_mnist\n",
    "from ch04.two_layer_net import TwoLayerNet"
   ]
  },
  {
   "cell_type": "markdown",
   "metadata": {},
   "source": [
    "### 訓練資料使誤差降低"
   ]
  },
  {
   "cell_type": "code",
   "execution_count": 64,
   "metadata": {},
   "outputs": [
    {
     "name": "stdout",
     "output_type": "stream",
     "text": [
      "13.898674011230469\n"
     ]
    }
   ],
   "source": [
    "(x_train , t_train) , (x_test , t_test) = load_mnist(normalize=True , one_hot_label=True)#one_hot_label會把資料變成[0., 0., 0., 0., 0., 0., 0., 1., 0., 0.]的樣子\n",
    "train_loss_list=[]\n",
    "#超參數\n",
    "iters_num=10000\n",
    "train_size=x_train.shape[0]\n",
    "batch_size=100\n",
    "learning_rate=0.1\n",
    "network=TwoLayerNet(input_size=784 , hidden_size=50 , output_size=10)\n",
    "t0=time.time()\n",
    "for i in range(iters_num):\n",
    "    #取得小批次\n",
    "    batch_mask=np.random.choice(train_size , batch_size)\n",
    "    x_batch = x_train[batch_mask]\n",
    "    t_batch = t_train[batch_mask]\n",
    "    #計算梯度\n",
    "    #grad=network.numerical_gradient(x_batch , t_batch)\n",
    "    grad = network.gradient(x_batch , t_batch) #高速版\n",
    "    #更新參數\n",
    "    for key in ('W1' , 'b1' , 'W2' , 'b2'):\n",
    "        network.params[key] -= learning_rate*grad[key]\n",
    "    #記錄學習過程\n",
    "    loss=network.loss(x_batch , t_batch)\n",
    "    train_loss_list.append(loss)\n",
    "t1=time.time()\n",
    "print (t1-t0)"
   ]
  },
  {
   "cell_type": "code",
   "execution_count": 65,
   "metadata": {},
   "outputs": [
    {
     "data": {
      "image/png": "[encoded data removed]",
      "text/plain": [
       "<Figure size 432x288 with 1 Axes>"
      ]
     },
     "metadata": {},
     "output_type": "display_data"
    }
   ],
   "source": [
    "plt.ylim(0,10)\n",
    "x=np.arange(len(train_loss_list))\n",
    "y=np.array(train_loss_list)\n",
    "plt.plot(x , y)\n",
    "plt.show()"
   ]
  },
  {
   "cell_type": "code",
   "execution_count": 66,
   "metadata": {},
   "outputs": [
    {
     "data": {
      "image/png": "[encoded data removed]",
      "text/plain": [
       "<Figure size 432x288 with 1 Axes>"
      ]
     },
     "metadata": {},
     "output_type": "display_data"
    }
   ],
   "source": [
    "plt.ylim(0,3)\n",
    "plt.xlim(-10,2000)\n",
    "x=np.arange(len(train_loss_list))\n",
    "y=np.array(train_loss_list)\n",
    "plt.plot(x , y)\n",
    "plt.show()"
   ]
  },
  {
   "cell_type": "markdown",
   "metadata": {},
   "source": [
    "### 真的來跑資料了"
   ]
  },
  {
   "cell_type": "code",
   "execution_count": 22,
   "metadata": {},
   "outputs": [
    {
     "name": "stdout",
     "output_type": "stream",
     "text": [
      "train acc , test acc | 0.09035 , 0.0892\n",
      "train acc , test acc | 0.7585 , 0.7682\n",
      "train acc , test acc | 0.8740833333333333 , 0.8751\n",
      "train acc , test acc | 0.89615 , 0.9001\n",
      "train acc , test acc | 0.90755 , 0.9096\n",
      "train acc , test acc | 0.91355 , 0.9155\n",
      "train acc , test acc | 0.9187166666666666 , 0.9212\n",
      "train acc , test acc | 0.9227 , 0.9247\n",
      "train acc , test acc | 0.9261 , 0.9285\n",
      "train acc , test acc | 0.9297333333333333 , 0.9318\n",
      "train acc , test acc | 0.9324833333333333 , 0.934\n",
      "train acc , test acc | 0.9354833333333333 , 0.9358\n",
      "train acc , test acc | 0.9372333333333334 , 0.9368\n",
      "train acc , test acc | 0.9407 , 0.9397\n",
      "train acc , test acc | 0.94235 , 0.9417\n",
      "train acc , test acc | 0.9432166666666667 , 0.9428\n",
      "train acc , test acc | 0.9459666666666666 , 0.9446\n"
     ]
    }
   ],
   "source": [
    "(x_train , t_train) , (x_test , t_test) = load_mnist(normalize=True , one_hot_label=True)\n",
    "train_loss_list=[]\n",
    "train_acc_list=[]\n",
    "test_acc_list=[]\n",
    "\n",
    "#超參數\n",
    "iters_num=10000\n",
    "train_size=x_train.shape[0]\n",
    "batch_size=100\n",
    "learning_rate=0.1\n",
    "\n",
    "#每1 epoch的重複次數\n",
    "iter_per_epoch=max(train_size/batch_size , 1)\n",
    "\n",
    "network=TwoLayerNet(input_size=784 , hidden_size=50 , output_size=10)\n",
    "\n",
    "for i in range(iters_num):\n",
    "    #取得小批次\n",
    "    batch_mask=np.random.choice(train_size , batch_size)\n",
    "    x_batch=x_train[batch_mask]\n",
    "    t_batch=t_train[batch_mask]\n",
    "    #計算梯度\n",
    "    grad = network.gradient(x_batch , t_batch)\n",
    "    #更新參數\n",
    "    for key in ('W1','b1','W2','b2'):\n",
    "        network.params[key] -=learning_rate*grad[key]\n",
    "    loss = network.loss(x_batch,t_batch)\n",
    "    train_loss_list.append(loss)\n",
    "    #計算1 epoch的辨識準確度\n",
    "    if i % iter_per_epoch == 0:\n",
    "        train_acc=network.accuracy(x_train , t_train)\n",
    "        test_acc=network.accuracy(x_test , t_test)\n",
    "        train_acc_list.append(train_acc)\n",
    "        test_acc_list.append(test_acc)\n",
    "        print (\"train acc , test acc | \" + str(train_acc) + \" , \" + str(test_acc))"
   ]
  },
  {
   "cell_type": "markdown",
   "metadata": {},
   "source": [
    "### 來拿幾筆資料predict一下"
   ]
  },
  {
   "cell_type": "code",
   "execution_count": 67,
   "metadata": {},
   "outputs": [
    {
     "name": "stdout",
     "output_type": "stream",
     "text": [
      "7\n"
     ]
    }
   ],
   "source": [
    "(a_train , b_train), (a_test , b_test) = load_mnist(normalize=False)"
   ]
  },
  {
   "cell_type": "code",
   "execution_count": 69,
   "metadata": {},
   "outputs": [
    {
     "name": "stdout",
     "output_type": "stream",
     "text": [
      "第0筆的資料長這樣： 7\n",
      "第0筆，如果有one_hot_label就會是這樣： [0. 0. 0. 0. 0. 0. 0. 1. 0. 0.]\n"
     ]
    }
   ],
   "source": [
    "print ('第0筆的資料長這樣：' , b_test[0])\n",
    "print ('第0筆，如果有one_hot_label就會是這樣：' , t_test[0])"
   ]
  },
  {
   "cell_type": "code",
   "execution_count": 72,
   "metadata": {},
   "outputs": [
    {
     "name": "stdout",
     "output_type": "stream",
     "text": [
      "我們訓練出來的Neural Network預測出來是： 7\n",
      "True\n"
     ]
    }
   ],
   "source": [
    "y0=np.argmax(network.predict(x_test[0]))\n",
    "print ('我們訓練出來的Neural Network預測出來是：' , y0)\n",
    "print (y0 == b_test[0])"
   ]
  },
  {
   "cell_type": "markdown",
   "metadata": {},
   "source": [
    "### 看一下他的照片吧～"
   ]
  },
  {
   "cell_type": "code",
   "execution_count": 74,
   "metadata": {},
   "outputs": [
    {
     "name": "stdout",
     "output_type": "stream",
     "text": [
      "(28, 28)\n"
     ]
    }
   ],
   "source": [
    "#因為已經normalize，所以img_show看不出來是誰\n",
    "img=a_test[0]\n",
    "img=img.reshape(28,28)\n",
    "print (img.shape)\n",
    "img_show(img)"
   ]
  }
 ],
 "metadata": {
  "kernelspec": {
   "display_name": "Python 3",
   "language": "python",
   "name": "python3"
  },
  "language_info": {
   "codemirror_mode": {
    "name": "ipython",
    "version": 3
   },
   "file_extension": ".py",
   "mimetype": "text/x-python",
   "name": "python",
   "nbconvert_exporter": "python",
   "pygments_lexer": "ipython3",
   "version": "3.6.5"
  }
 },
 "nbformat": 4,
 "nbformat_minor": 2
}
